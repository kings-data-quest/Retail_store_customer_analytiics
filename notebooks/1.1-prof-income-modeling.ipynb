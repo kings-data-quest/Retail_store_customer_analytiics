{
 "cells": [
  {
   "cell_type": "code",
   "execution_count": null,
   "metadata": {},
   "outputs": [],
   "source": [
    "from scipy import stats\n",
    "from sklearn.model_selection import train_test_split\n",
    "from sklearn.linear_model import LinearRegression\n",
    "from sklearn.ensemble import RandomForestClassifier\n",
    "from sklearn.metrics import accuracy_score, mean_squared_error"
   ]
  },
  {
   "cell_type": "code",
   "execution_count": null,
   "metadata": {},
   "outputs": [],
   "source": [
    "\n",
    "# 8. Predictive Modeling\n",
    "# Prepare the data for predictive modeling\n",
    "X = data[[\"Age\", \"Education\", \"Occupation\"]]\n",
    "y = data[\"Income\"]\n",
    "\n",
    "# Encode categorical variables using one-hot encoding\n",
    "X = pd.get_dummies(X, columns=[\"Education\", \"Occupation\"], drop_first=True)\n",
    "\n",
    "# Split the data into training and testing sets\n",
    "X_train, X_test, y_train, y_test = train_test_split(X, y, test_size=0.2, random_state=42)\n",
    "\n",
    "# 8a. Linear Regression (for predicting income)\n",
    "linear_model = LinearRegression()\n",
    "linear_model.fit(X_train, y_train)\n",
    "\n",
    "# Evaluate the model\n",
    "y_pred_linear = linear_model.predict(X_test)\n",
    "linear_rmse = np.sqrt(mean_squared_error(y_test, y_pred_linear))\n",
    "print(\"\\nLinear Regression RMSE:\", linear_rmse)\n",
    "\n",
    "# 8b. Random Forest Classifier (for a classification task)\n",
    "# Assuming you have a binary target variable for classification, e.g., \"HighIncome\" (1: Yes, 0: No)\n",
    "data[\"HighIncome\"] = (data[\"Income\"] > data[\"Income\"].median()).astype(int)\n",
    "\n",
    "X_classification = data.drop(columns=[\"Income\", \"HighIncome\"])\n",
    "y_classification = data[\"HighIncome\"]\n",
    "\n",
    "# Encode categorical variables using one-hot encoding\n",
    "X_classification = pd.get_dummies(X_classification, drop_first=True)\n",
    "\n",
    "# Split the data into training and testing sets\n",
    "X_train_cls, X_test_cls, y_train_cls, y_test_cls = train_test_split(X_classification, y_classification,\n",
    "                                                                    test_size=0.2, random_state=42)\n",
    "\n",
    "# Build and evaluate the Random Forest classifier\n",
    "rf_classifier = RandomForestClassifier(random_state=42)\n",
    "rf_classifier.fit(X_train_cls, y_train_cls)\n",
    "y_pred_cls = rf_classifier.predict(X_test_cls)\n",
    "classification_accuracy = accuracy_score(y_test_cls, y_pred_cls)\n",
    "print(\"\\nClassification Accuracy:\", classification_accuracy)\n"
   ]
  }
 ],
 "metadata": {
  "kernelspec": {
   "display_name": "Customer_analytics",
   "language": "python",
   "name": "python3"
  },
  "language_info": {
   "name": "python",
   "version": "3.10.10"
  },
  "orig_nbformat": 4
 },
 "nbformat": 4,
 "nbformat_minor": 2
}
